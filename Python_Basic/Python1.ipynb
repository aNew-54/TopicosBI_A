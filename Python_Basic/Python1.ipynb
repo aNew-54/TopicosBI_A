{
 "cells": [
  {
   "cell_type": "markdown",
   "id": "ac31382c",
   "metadata": {},
   "source": [
    "# Phyton for Big Data\n",
    "\n",
    "1. Variables\n",
    "2. String\n",
    "3. Function print\n",
    "4. Booleanos y condicionales\n",
    "5. Loops\n",
    "6. Functions\n",
    "7. Manejo de Excepciones"
   ]
  },
  {
   "cell_type": "markdown",
   "id": "7e923674d942ff03",
   "metadata": {},
   "source": [
    "## Variables\n"
   ]
  },
  {
   "cell_type": "code",
   "execution_count": 1,
   "id": "7e72c9f494ad9d2a",
   "metadata": {
    "ExecuteTime": {
     "end_time": "2025-09-26T16:41:11.766523Z",
     "start_time": "2025-09-26T16:41:11.763434Z"
    }
   },
   "outputs": [],
   "source": [
    "# Declaración de variables\n",
    "monto_deuda = 100\n",
    "moneda = \"soles\""
   ]
  },
  {
   "cell_type": "code",
   "execution_count": 2,
   "id": "b17363f5e4ffb669",
   "metadata": {
    "ExecuteTime": {
     "end_time": "2025-09-26T16:41:15.778195Z",
     "start_time": "2025-09-26T16:41:15.771477Z"
    }
   },
   "outputs": [
    {
     "data": {
      "text/plain": [
       "'soles'"
      ]
     },
     "execution_count": 2,
     "metadata": {},
     "output_type": "execute_result"
    }
   ],
   "source": [
    "moneda"
   ]
  },
  {
   "cell_type": "code",
   "execution_count": 2,
   "id": "41182e8cd8e0b297",
   "metadata": {
    "ExecuteTime": {
     "end_time": "2025-09-26T16:41:54.263070Z",
     "start_time": "2025-09-26T16:41:49.288728Z"
    }
   },
   "outputs": [],
   "source": [
    "# Interactuando con el usuario\n",
    "monto_interes = int(input(\"Ingresa un interes\"))"
   ]
  },
  {
   "cell_type": "code",
   "execution_count": 4,
   "id": "15b08a0af7b32dbd",
   "metadata": {
    "ExecuteTime": {
     "end_time": "2025-09-26T16:43:07.483449Z",
     "start_time": "2025-09-26T16:43:07.480219Z"
    }
   },
   "outputs": [
    {
     "data": {
      "text/plain": [
       "400"
      ]
     },
     "execution_count": 4,
     "metadata": {},
     "output_type": "execute_result"
    }
   ],
   "source": [
    "# Operando con variables\n",
    "resultado = monto_deuda * 4\n",
    "resultado"
   ]
  },
  {
   "cell_type": "code",
   "execution_count": 6,
   "id": "2dec7e7eb6d441c",
   "metadata": {
    "ExecuteTime": {
     "end_time": "2025-09-26T16:44:26.473843Z",
     "start_time": "2025-09-26T16:44:26.470951Z"
    }
   },
   "outputs": [
    {
     "data": {
      "text/plain": [
       "int"
      ]
     },
     "execution_count": 6,
     "metadata": {},
     "output_type": "execute_result"
    }
   ],
   "source": [
    "#Tipo de variable\n",
    "type(monto_deuda)"
   ]
  },
  {
   "cell_type": "code",
   "execution_count": 7,
   "id": "e8abb0f3b2f2af75",
   "metadata": {
    "ExecuteTime": {
     "end_time": "2025-09-26T16:44:50.008103Z",
     "start_time": "2025-09-26T16:44:50.004309Z"
    }
   },
   "outputs": [
    {
     "data": {
      "text/plain": [
       "str"
      ]
     },
     "execution_count": 7,
     "metadata": {},
     "output_type": "execute_result"
    }
   ],
   "source": [
    "type(moneda)\n"
   ]
  },
  {
   "cell_type": "code",
   "execution_count": 10,
   "id": "519dd0198a425587",
   "metadata": {
    "ExecuteTime": {
     "end_time": "2025-09-26T16:45:38.882082Z",
     "start_time": "2025-09-26T16:45:38.817235Z"
    }
   },
   "outputs": [
    {
     "data": {
      "text/plain": [
       "'100'"
      ]
     },
     "execution_count": 10,
     "metadata": {},
     "output_type": "execute_result"
    }
   ],
   "source": [
    "# Cambiando el tipo de variable\n",
    "str_monto_deuda = str(monto_deuda)\n",
    "str_monto_deuda"
   ]
  },
  {
   "cell_type": "code",
   "execution_count": 12,
   "id": "70a35343f000ebe9",
   "metadata": {
    "ExecuteTime": {
     "end_time": "2025-09-26T16:46:06.907437Z",
     "start_time": "2025-09-26T16:46:06.903385Z"
    }
   },
   "outputs": [
    {
     "data": {
      "text/plain": [
       "100"
      ]
     },
     "execution_count": 12,
     "metadata": {},
     "output_type": "execute_result"
    }
   ],
   "source": [
    "int_monto_deuda = int(str_monto_deuda)\n",
    "int_monto_deuda"
   ]
  },
  {
   "cell_type": "markdown",
   "id": "28687858",
   "metadata": {},
   "source": [
    "### 2. String"
   ]
  },
  {
   "cell_type": "code",
   "execution_count": null,
   "id": "ffc5fe74",
   "metadata": {},
   "outputs": [],
   "source": [
    "# Concatenar \n",
    "\n",
    "'Ho' + 'la'"
   ]
  },
  {
   "cell_type": "code",
   "execution_count": 1,
   "id": "270bb7cf",
   "metadata": {},
   "outputs": [],
   "source": [
    "# Comillas triples\n",
    "\n",
    "consulta = \"\"\"\n",
    "    SELECT * FROM USERS\n",
    "    WHERE ID = 8\n",
    "    GROUP BY ADMIN\n",
    "\"\"\""
   ]
  },
  {
   "cell_type": "code",
   "execution_count": 3,
   "id": "27233574",
   "metadata": {},
   "outputs": [
    {
     "data": {
      "text/plain": [
       "'\\n    SELECT * FROM USERS\\n    WHERE ID = 8\\n    GROUP BY ADMIN\\n'"
      ]
     },
     "execution_count": 3,
     "metadata": {},
     "output_type": "execute_result"
    }
   ],
   "source": [
    "consulta"
   ]
  },
  {
   "cell_type": "code",
   "execution_count": 4,
   "id": "f82aa988",
   "metadata": {},
   "outputs": [],
   "source": [
    "# Operaciones con Strings\n",
    "cadena_1 = \"Hola Mundo\"\n",
    "cadena_2 = \"S\"\n",
    "cadena_3 = \"cinco\"\n"
   ]
  },
  {
   "cell_type": "code",
   "execution_count": null,
   "id": "6a4a91cd",
   "metadata": {},
   "outputs": [
    {
     "data": {
      "text/plain": [
       "'Hola mundo'"
      ]
     },
     "execution_count": 5,
     "metadata": {},
     "output_type": "execute_result"
    }
   ],
   "source": [
    "cadena_1.capitalize()"
   ]
  },
  {
   "cell_type": "code",
   "execution_count": 6,
   "id": "dd5d5957",
   "metadata": {},
   "outputs": [
    {
     "data": {
      "text/plain": [
       "'CINCO'"
      ]
     },
     "execution_count": 6,
     "metadata": {},
     "output_type": "execute_result"
    }
   ],
   "source": [
    "cadena_3.upper()"
   ]
  },
  {
   "cell_type": "code",
   "execution_count": 7,
   "id": "2fa577ea",
   "metadata": {},
   "outputs": [
    {
     "data": {
      "text/plain": [
       "'Hola Mundo'"
      ]
     },
     "execution_count": 7,
     "metadata": {},
     "output_type": "execute_result"
    }
   ],
   "source": [
    "cadena_1.title()"
   ]
  },
  {
   "cell_type": "code",
   "execution_count": 8,
   "id": "bd01ff08",
   "metadata": {},
   "outputs": [
    {
     "data": {
      "text/plain": [
       "2"
      ]
     },
     "execution_count": 8,
     "metadata": {},
     "output_type": "execute_result"
    }
   ],
   "source": [
    "cadena_1.count('o')"
   ]
  },
  {
   "cell_type": "code",
   "execution_count": 9,
   "id": "6231a640",
   "metadata": {},
   "outputs": [
    {
     "data": {
      "text/plain": [
       "10"
      ]
     },
     "execution_count": 9,
     "metadata": {},
     "output_type": "execute_result"
    }
   ],
   "source": [
    "len(cadena_1)"
   ]
  },
  {
   "cell_type": "code",
   "execution_count": 10,
   "id": "c20472e8",
   "metadata": {},
   "outputs": [
    {
     "data": {
      "text/plain": [
       "['Hola Mundo']"
      ]
     },
     "execution_count": 10,
     "metadata": {},
     "output_type": "execute_result"
    }
   ],
   "source": [
    "cadena_1.split('m')"
   ]
  },
  {
   "cell_type": "code",
   "execution_count": 11,
   "id": "26b102d2",
   "metadata": {},
   "outputs": [
    {
     "data": {
      "text/plain": [
       "'(Hola, Mundo)'"
      ]
     },
     "execution_count": 11,
     "metadata": {},
     "output_type": "execute_result"
    }
   ],
   "source": [
    "# Limpiando extremos de un string\n",
    "cadena_4 = \" (Hola, Mundo) \"\n",
    "cadena_4.strip()"
   ]
  },
  {
   "cell_type": "code",
   "execution_count": 12,
   "id": "67c2b75f",
   "metadata": {},
   "outputs": [
    {
     "data": {
      "text/plain": [
       "'Hola, Mundo'"
      ]
     },
     "execution_count": 12,
     "metadata": {},
     "output_type": "execute_result"
    }
   ],
   "source": [
    "cadena_4.strip('(), ')"
   ]
  },
  {
   "cell_type": "code",
   "execution_count": 13,
   "id": "c0bfc0ea",
   "metadata": {},
   "outputs": [
    {
     "data": {
      "text/plain": [
       "'Hola World'"
      ]
     },
     "execution_count": 13,
     "metadata": {},
     "output_type": "execute_result"
    }
   ],
   "source": [
    "# Reemplazar string\n",
    "\n",
    "cadena_5 = \"Hola Mundo\"\n",
    "cadena_5.replace(\"Hola\", \"Hi\")\n",
    "cadena_5.replace(\"Mundo\", \"World\")"
   ]
  }
 ],
 "metadata": {
  "kernelspec": {
   "display_name": "myEnv",
   "language": "python",
   "name": "python3"
  },
  "language_info": {
   "codemirror_mode": {
    "name": "ipython",
    "version": 3
   },
   "file_extension": ".py",
   "mimetype": "text/x-python",
   "name": "python",
   "nbconvert_exporter": "python",
   "pygments_lexer": "ipython3",
   "version": "3.13.5"
  }
 },
 "nbformat": 4,
 "nbformat_minor": 5
}
