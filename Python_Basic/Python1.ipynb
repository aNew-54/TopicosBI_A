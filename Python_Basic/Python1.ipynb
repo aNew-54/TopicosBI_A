{
 "cells": [
  {
   "cell_type": "markdown",
   "id": "ac31382c",
   "metadata": {},
   "source": [
    "# Phyton for Big Data\n",
    "\n",
    "1. Variables\n",
    "2. String\n",
    "3. Function print\n",
    "4. Booleanos y condicionales\n",
    "5. Loops\n",
    "6. Functions\n",
    "7. Manejo de Excepciones"
   ]
  },
  {
   "cell_type": "markdown",
   "id": "7e923674d942ff03",
   "metadata": {},
   "source": [
    "## Variables\n"
   ]
  },
  {
   "cell_type": "code",
   "execution_count": 5,
   "id": "7e72c9f494ad9d2a",
   "metadata": {
    "ExecuteTime": {
     "end_time": "2025-09-26T16:41:11.766523Z",
     "start_time": "2025-09-26T16:41:11.763434Z"
    }
   },
   "outputs": [],
   "source": [
    "# Declaración de variables\n",
    "monto_deuda = 100\n",
    "moneda = \"soles\""
   ]
  },
  {
   "cell_type": "code",
   "execution_count": 6,
   "id": "b17363f5e4ffb669",
   "metadata": {
    "ExecuteTime": {
     "end_time": "2025-09-26T16:41:15.778195Z",
     "start_time": "2025-09-26T16:41:15.771477Z"
    }
   },
   "outputs": [
    {
     "data": {
      "text/plain": [
       "'soles'"
      ]
     },
     "execution_count": 6,
     "metadata": {},
     "output_type": "execute_result"
    }
   ],
   "source": [
    "moneda"
   ]
  },
  {
   "cell_type": "code",
   "execution_count": 7,
   "id": "41182e8cd8e0b297",
   "metadata": {
    "ExecuteTime": {
     "end_time": "2025-09-26T16:41:54.263070Z",
     "start_time": "2025-09-26T16:41:49.288728Z"
    }
   },
   "outputs": [],
   "source": [
    "# Interactuando con el usuario\n",
    "monto_interes = int(input(\"Ingresa un interes\"))"
   ]
  },
  {
   "cell_type": "code",
   "execution_count": 8,
   "id": "15b08a0af7b32dbd",
   "metadata": {
    "ExecuteTime": {
     "end_time": "2025-09-26T16:43:07.483449Z",
     "start_time": "2025-09-26T16:43:07.480219Z"
    }
   },
   "outputs": [
    {
     "data": {
      "text/plain": [
       "400"
      ]
     },
     "execution_count": 8,
     "metadata": {},
     "output_type": "execute_result"
    }
   ],
   "source": [
    "# Operando con variables\n",
    "resultado = monto_deuda * 4\n",
    "resultado"
   ]
  },
  {
   "cell_type": "code",
   "execution_count": 9,
   "id": "2dec7e7eb6d441c",
   "metadata": {
    "ExecuteTime": {
     "end_time": "2025-09-26T16:44:26.473843Z",
     "start_time": "2025-09-26T16:44:26.470951Z"
    }
   },
   "outputs": [
    {
     "data": {
      "text/plain": [
       "int"
      ]
     },
     "execution_count": 9,
     "metadata": {},
     "output_type": "execute_result"
    }
   ],
   "source": [
    "#Tipo de variable\n",
    "type(monto_deuda)"
   ]
  },
  {
   "cell_type": "code",
   "execution_count": 10,
   "id": "e8abb0f3b2f2af75",
   "metadata": {
    "ExecuteTime": {
     "end_time": "2025-09-26T16:44:50.008103Z",
     "start_time": "2025-09-26T16:44:50.004309Z"
    }
   },
   "outputs": [
    {
     "data": {
      "text/plain": [
       "str"
      ]
     },
     "execution_count": 10,
     "metadata": {},
     "output_type": "execute_result"
    }
   ],
   "source": [
    "type(moneda)\n"
   ]
  },
  {
   "cell_type": "code",
   "execution_count": 11,
   "id": "519dd0198a425587",
   "metadata": {
    "ExecuteTime": {
     "end_time": "2025-09-26T16:45:38.882082Z",
     "start_time": "2025-09-26T16:45:38.817235Z"
    }
   },
   "outputs": [
    {
     "data": {
      "text/plain": [
       "'100'"
      ]
     },
     "execution_count": 11,
     "metadata": {},
     "output_type": "execute_result"
    }
   ],
   "source": [
    "# Cambiando el tipo de variable\n",
    "str_monto_deuda = str(monto_deuda)\n",
    "str_monto_deuda"
   ]
  },
  {
   "cell_type": "code",
   "execution_count": 12,
   "id": "70a35343f000ebe9",
   "metadata": {
    "ExecuteTime": {
     "end_time": "2025-09-26T16:46:06.907437Z",
     "start_time": "2025-09-26T16:46:06.903385Z"
    }
   },
   "outputs": [
    {
     "data": {
      "text/plain": [
       "100"
      ]
     },
     "execution_count": 12,
     "metadata": {},
     "output_type": "execute_result"
    }
   ],
   "source": [
    "int_monto_deuda = int(str_monto_deuda)\n",
    "int_monto_deuda"
   ]
  },
  {
   "cell_type": "markdown",
   "id": "28687858",
   "metadata": {},
   "source": [
    "### 2. String"
   ]
  },
  {
   "cell_type": "code",
   "execution_count": 13,
   "id": "ffc5fe74",
   "metadata": {},
   "outputs": [
    {
     "data": {
      "text/plain": [
       "'Hola'"
      ]
     },
     "execution_count": 13,
     "metadata": {},
     "output_type": "execute_result"
    }
   ],
   "source": [
    "# Concatenar \n",
    "\n",
    "'Ho' + 'la'"
   ]
  },
  {
   "cell_type": "code",
   "execution_count": 14,
   "id": "270bb7cf",
   "metadata": {},
   "outputs": [],
   "source": [
    "# Comillas triples\n",
    "\n",
    "consulta = \"\"\"\n",
    "    SELECT * FROM USERS\n",
    "    WHERE ID = 8\n",
    "    GROUP BY ADMIN\n",
    "\"\"\""
   ]
  },
  {
   "cell_type": "code",
   "execution_count": 15,
   "id": "27233574",
   "metadata": {},
   "outputs": [
    {
     "data": {
      "text/plain": [
       "'\\n    SELECT * FROM USERS\\n    WHERE ID = 8\\n    GROUP BY ADMIN\\n'"
      ]
     },
     "execution_count": 15,
     "metadata": {},
     "output_type": "execute_result"
    }
   ],
   "source": [
    "consulta"
   ]
  },
  {
   "cell_type": "code",
   "execution_count": 16,
   "id": "f82aa988",
   "metadata": {},
   "outputs": [],
   "source": [
    "# Operaciones con Strings\n",
    "cadena_1 = \"Hola Mundo\"\n",
    "cadena_2 = \"S\"\n",
    "cadena_3 = \"cinco\"\n"
   ]
  },
  {
   "cell_type": "code",
   "execution_count": 17,
   "id": "6a4a91cd",
   "metadata": {},
   "outputs": [
    {
     "data": {
      "text/plain": [
       "'Hola mundo'"
      ]
     },
     "execution_count": 17,
     "metadata": {},
     "output_type": "execute_result"
    }
   ],
   "source": [
    "cadena_1.capitalize()"
   ]
  },
  {
   "cell_type": "code",
   "execution_count": 18,
   "id": "dd5d5957",
   "metadata": {},
   "outputs": [
    {
     "data": {
      "text/plain": [
       "'CINCO'"
      ]
     },
     "execution_count": 18,
     "metadata": {},
     "output_type": "execute_result"
    }
   ],
   "source": [
    "cadena_3.upper()"
   ]
  },
  {
   "cell_type": "code",
   "execution_count": 19,
   "id": "2fa577ea",
   "metadata": {},
   "outputs": [
    {
     "data": {
      "text/plain": [
       "'Hola Mundo'"
      ]
     },
     "execution_count": 19,
     "metadata": {},
     "output_type": "execute_result"
    }
   ],
   "source": [
    "cadena_1.title()"
   ]
  },
  {
   "cell_type": "code",
   "execution_count": 20,
   "id": "bd01ff08",
   "metadata": {},
   "outputs": [
    {
     "data": {
      "text/plain": [
       "2"
      ]
     },
     "execution_count": 20,
     "metadata": {},
     "output_type": "execute_result"
    }
   ],
   "source": [
    "cadena_1.count('o')"
   ]
  },
  {
   "cell_type": "code",
   "execution_count": 21,
   "id": "6231a640",
   "metadata": {},
   "outputs": [
    {
     "data": {
      "text/plain": [
       "10"
      ]
     },
     "execution_count": 21,
     "metadata": {},
     "output_type": "execute_result"
    }
   ],
   "source": [
    "len(cadena_1)"
   ]
  },
  {
   "cell_type": "code",
   "execution_count": 22,
   "id": "c20472e8",
   "metadata": {},
   "outputs": [
    {
     "data": {
      "text/plain": [
       "['Hola Mundo']"
      ]
     },
     "execution_count": 22,
     "metadata": {},
     "output_type": "execute_result"
    }
   ],
   "source": [
    "cadena_1.split('m')"
   ]
  },
  {
   "cell_type": "code",
   "execution_count": 23,
   "id": "26b102d2",
   "metadata": {},
   "outputs": [
    {
     "data": {
      "text/plain": [
       "'(Hola, Mundo)'"
      ]
     },
     "execution_count": 23,
     "metadata": {},
     "output_type": "execute_result"
    }
   ],
   "source": [
    "# Limpiando extremos de un string\n",
    "cadena_4 = \" (Hola, Mundo) \"\n",
    "cadena_4.strip()"
   ]
  },
  {
   "cell_type": "code",
   "execution_count": 24,
   "id": "67c2b75f",
   "metadata": {},
   "outputs": [
    {
     "data": {
      "text/plain": [
       "'Hola, Mundo'"
      ]
     },
     "execution_count": 24,
     "metadata": {},
     "output_type": "execute_result"
    }
   ],
   "source": [
    "cadena_4.strip('(), ')"
   ]
  },
  {
   "cell_type": "code",
   "execution_count": 25,
   "id": "c0bfc0ea",
   "metadata": {},
   "outputs": [
    {
     "data": {
      "text/plain": [
       "'Hola World'"
      ]
     },
     "execution_count": 25,
     "metadata": {},
     "output_type": "execute_result"
    }
   ],
   "source": [
    "# Reemplazar string\n",
    "\n",
    "cadena_5 = \"Hola Mundo\"\n",
    "cadena_5.replace(\"Hola\", \"Hi\")\n",
    "cadena_5.replace(\"Mundo\", \"World\")"
   ]
  },
  {
   "cell_type": "code",
   "execution_count": 26,
   "id": "a4f6f03c",
   "metadata": {},
   "outputs": [
    {
     "data": {
      "text/plain": [
       "9"
      ]
     },
     "execution_count": 26,
     "metadata": {},
     "output_type": "execute_result"
    }
   ],
   "source": [
    "cadena_5.index('o',6)"
   ]
  },
  {
   "cell_type": "code",
   "execution_count": 27,
   "id": "c482ddf4",
   "metadata": {},
   "outputs": [
    {
     "data": {
      "text/plain": [
       "'d'"
      ]
     },
     "execution_count": 27,
     "metadata": {},
     "output_type": "execute_result"
    }
   ],
   "source": [
    "cadena_5[-2]"
   ]
  },
  {
   "cell_type": "code",
   "execution_count": 28,
   "id": "630f00e2",
   "metadata": {},
   "outputs": [
    {
     "data": {
      "text/plain": [
       "'la M'"
      ]
     },
     "execution_count": 28,
     "metadata": {},
     "output_type": "execute_result"
    }
   ],
   "source": [
    "cadena_5[2:-4]"
   ]
  },
  {
   "cell_type": "code",
   "execution_count": 29,
   "id": "eac64023",
   "metadata": {},
   "outputs": [
    {
     "data": {
      "text/plain": [
       "'odnuM aloH'"
      ]
     },
     "execution_count": 29,
     "metadata": {},
     "output_type": "execute_result"
    }
   ],
   "source": [
    "cadena_5[::-1]"
   ]
  },
  {
   "cell_type": "code",
   "execution_count": null,
   "id": "72ce4a22",
   "metadata": {},
   "outputs": [
    {
     "data": {
      "text/plain": [
       "['HOLA,', 'MUNDO']"
      ]
     },
     "execution_count": 30,
     "metadata": {},
     "output_type": "execute_result"
    }
   ],
   "source": [
    "#llamada a una cadena\n",
    "cadena_4.strip('(), ').upper().split()"
   ]
  },
  {
   "cell_type": "code",
   "execution_count": 31,
   "id": "4a2c9f0a",
   "metadata": {},
   "outputs": [
    {
     "data": {
      "text/plain": [
       "'Hola Brayam, este es el curso de Tópicos Especiales en Inteligencia de Negocios'"
      ]
     },
     "execution_count": 31,
     "metadata": {},
     "output_type": "execute_result"
    }
   ],
   "source": [
    "# Python f-String\n",
    "nombre = \"Brayam\"\n",
    "curso = \"Tópicos Especiales en Inteligencia de Negocios\"\n",
    "f'Hola {nombre}, este es el curso de {curso}'\n"
   ]
  },
  {
   "cell_type": "code",
   "execution_count": 32,
   "id": "26451226",
   "metadata": {},
   "outputs": [],
   "source": [
    "string_1 = \"Hola mundo\"\n",
    "string_2 = \"5\"\n",
    "string_3 = \"cinco\""
   ]
  },
  {
   "cell_type": "code",
   "execution_count": 33,
   "id": "322b2d3b",
   "metadata": {},
   "outputs": [
    {
     "data": {
      "text/plain": [
       "False"
      ]
     },
     "execution_count": 33,
     "metadata": {},
     "output_type": "execute_result"
    }
   ],
   "source": [
    "string_1.isdigit()"
   ]
  },
  {
   "cell_type": "code",
   "execution_count": 34,
   "id": "66d2b3ae",
   "metadata": {},
   "outputs": [
    {
     "data": {
      "text/plain": [
       "True"
      ]
     },
     "execution_count": 34,
     "metadata": {},
     "output_type": "execute_result"
    }
   ],
   "source": [
    "string_2.isdigit()"
   ]
  },
  {
   "cell_type": "code",
   "execution_count": 35,
   "id": "7a429db3",
   "metadata": {},
   "outputs": [
    {
     "data": {
      "text/plain": [
       "True"
      ]
     },
     "execution_count": 35,
     "metadata": {},
     "output_type": "execute_result"
    }
   ],
   "source": [
    "string_3.isalpha()"
   ]
  },
  {
   "cell_type": "code",
   "execution_count": 36,
   "id": "fed24cde",
   "metadata": {},
   "outputs": [
    {
     "data": {
      "text/plain": [
       "'abcdefghijklmnopqrstuvwxyzABCDEFGHIJKLMNOPQRSTUVWXYZ'"
      ]
     },
     "execution_count": 36,
     "metadata": {},
     "output_type": "execute_result"
    }
   ],
   "source": [
    "import string\n",
    "string.ascii_letters"
   ]
  },
  {
   "cell_type": "code",
   "execution_count": 37,
   "id": "c970dd24",
   "metadata": {},
   "outputs": [
    {
     "data": {
      "text/plain": [
       "'abcdefghijklmnopqrstuvwxyz'"
      ]
     },
     "execution_count": 37,
     "metadata": {},
     "output_type": "execute_result"
    }
   ],
   "source": [
    "string.ascii_lowercase"
   ]
  },
  {
   "cell_type": "code",
   "execution_count": 38,
   "id": "8ce349d7",
   "metadata": {},
   "outputs": [
    {
     "data": {
      "text/plain": [
       "'ABCDEFGHIJKLMNOPQRSTUVWXYZ'"
      ]
     },
     "execution_count": 38,
     "metadata": {},
     "output_type": "execute_result"
    }
   ],
   "source": [
    "string.ascii_uppercase"
   ]
  },
  {
   "cell_type": "markdown",
   "id": "0f2e4cdf",
   "metadata": {},
   "source": [
    "# 3. Función Print"
   ]
  },
  {
   "cell_type": "code",
   "execution_count": 39,
   "id": "89298684",
   "metadata": {},
   "outputs": [
    {
     "name": "stdout",
     "output_type": "stream",
     "text": [
      "Hola mundo\n"
     ]
    }
   ],
   "source": [
    "print(string_1)"
   ]
  },
  {
   "cell_type": "code",
   "execution_count": 40,
   "id": "f5f979ad",
   "metadata": {},
   "outputs": [
    {
     "name": "stdout",
     "output_type": "stream",
     "text": [
      "<class 'int'>\n"
     ]
    }
   ],
   "source": [
    "print(type(5))"
   ]
  },
  {
   "cell_type": "code",
   "execution_count": 42,
   "id": "c475e21b",
   "metadata": {},
   "outputs": [
    {
     "name": "stdout",
     "output_type": "stream",
     "text": [
      "Mi nombre es Brayam y estoy viendo el curso de Tópicos Especiales en Inteligencia de Negocios\n",
      "Mi nombre es Brayam y estoy viendo el curso de Tópicos Especiales en Inteligencia de Negocios\n"
     ]
    }
   ],
   "source": [
    "print(\"Mi nombre es\", nombre, \"y estoy viendo el curso de\", curso)\n",
    "print(f'Mi nombre es {nombre} y estoy viendo el curso de {curso}')"
   ]
  },
  {
   "cell_type": "code",
   "execution_count": 49,
   "id": "d660480b",
   "metadata": {},
   "outputs": [
    {
     "name": "stdout",
     "output_type": "stream",
     "text": [
      "Los datos del curso son: \n",
      "Curso\t\t\t: Tópicos Especiales en Inteligencia de Negocios \n",
      "Duración\t\t: 15 semanas \n",
      "Modalidad\t\t: Presencial\n"
     ]
    }
   ],
   "source": [
    "print(\"Los datos del curso son: \\nCurso\\t\\t\\t: Tópicos Especiales en Inteligencia de Negocios \\nDuración\\t\\t: 15 semanas \\nModalidad\\t\\t: Presencial\")"
   ]
  },
  {
   "cell_type": "markdown",
   "id": "56257235",
   "metadata": {},
   "source": [
    "# Booleanos y Condicionales"
   ]
  },
  {
   "cell_type": "code",
   "execution_count": 51,
   "id": "3b70f528",
   "metadata": {},
   "outputs": [
    {
     "name": "stdout",
     "output_type": "stream",
     "text": [
      "<class 'bool'>\n"
     ]
    }
   ],
   "source": [
    "final_page = True\n",
    "print(type(final_page))"
   ]
  },
  {
   "cell_type": "code",
   "execution_count": 52,
   "id": "8cd1d602",
   "metadata": {},
   "outputs": [
    {
     "name": "stdout",
     "output_type": "stream",
     "text": [
      "Final de pagina\n"
     ]
    }
   ],
   "source": [
    "if final_page:\n",
    "    print('Final de pagina')\n",
    "else:\n",
    "    print('No es el final de pagina')"
   ]
  },
  {
   "cell_type": "code",
   "execution_count": 53,
   "id": "b66d5f5d",
   "metadata": {},
   "outputs": [
    {
     "data": {
      "text/plain": [
       "False"
      ]
     },
     "execution_count": 53,
     "metadata": {},
     "output_type": "execute_result"
    }
   ],
   "source": [
    "True and False"
   ]
  },
  {
   "cell_type": "code",
   "execution_count": 54,
   "id": "1d230053",
   "metadata": {},
   "outputs": [
    {
     "data": {
      "text/plain": [
       "True"
      ]
     },
     "execution_count": 54,
     "metadata": {},
     "output_type": "execute_result"
    }
   ],
   "source": [
    "True or False"
   ]
  },
  {
   "cell_type": "code",
   "execution_count": 56,
   "id": "c8a29056",
   "metadata": {},
   "outputs": [],
   "source": [
    "# Comparación\n",
    "#1 < 'uno'"
   ]
  },
  {
   "cell_type": "markdown",
   "id": "3e8f8b83",
   "metadata": {},
   "source": [
    "# Bucles"
   ]
  },
  {
   "cell_type": "code",
   "execution_count": 58,
   "id": "913f92d7",
   "metadata": {},
   "outputs": [
    {
     "name": "stdout",
     "output_type": "stream",
     "text": [
      "H\n",
      "o\n",
      "l\n",
      "a\n",
      " \n",
      "m\n",
      "u\n",
      "n\n",
      "d\n",
      "o\n"
     ]
    }
   ],
   "source": [
    "for char in \"Hola mundo\":\n",
    "    print(char)"
   ]
  },
  {
   "cell_type": "code",
   "execution_count": 59,
   "id": "1051f3fe",
   "metadata": {},
   "outputs": [
    {
     "name": "stdout",
     "output_type": "stream",
     "text": [
      "Palabras: ['Hola', 'a', 'todos']\n"
     ]
    }
   ],
   "source": [
    "my_string = \"Hola a todos\"\n",
    "palabras = my_string.split()\n",
    "print(f'Palabras: {palabras}')\n"
   ]
  },
  {
   "cell_type": "code",
   "execution_count": 60,
   "id": "e92c05ca",
   "metadata": {},
   "outputs": [
    {
     "name": "stdout",
     "output_type": "stream",
     "text": [
      "Hola\n",
      "a\n",
      "todos\n"
     ]
    }
   ],
   "source": [
    "for palabra in palabras: \n",
    "    print(palabra)"
   ]
  },
  {
   "cell_type": "code",
   "execution_count": 61,
   "id": "0ade7c4b",
   "metadata": {},
   "outputs": [
    {
     "name": "stdout",
     "output_type": "stream",
     "text": [
      "0 Hola\n",
      "1 a\n",
      "2 todos\n"
     ]
    }
   ],
   "source": [
    "for idx, palabra in enumerate(palabras):\n",
    "    print(idx, palabra)"
   ]
  },
  {
   "cell_type": "code",
   "execution_count": 65,
   "id": "ae9702de",
   "metadata": {},
   "outputs": [
    {
     "name": "stdout",
     "output_type": "stream",
     "text": [
      "1 Hola\n",
      "2 a\n",
      "3 todos\n"
     ]
    }
   ],
   "source": [
    "for idx, palabra in enumerate(palabras,1):\n",
    "    print(idx, palabra)"
   ]
  },
  {
   "cell_type": "code",
   "execution_count": null,
   "id": "f204e4d9",
   "metadata": {},
   "outputs": [
    {
     "name": "stdout",
     "output_type": "stream",
     "text": [
      "Cronometro\n",
      "segundo  0\n",
      "segundo  1\n",
      "segundo  2\n",
      "segundo  3\n",
      "segundo  4\n"
     ]
    }
   ],
   "source": [
    "import time\n",
    "num = 0\n",
    "print(\"Cronometro\")\n",
    "while num<5:\n",
    "    print(\"Segundo \" , num)\n",
    "    num+=1\n",
    "    time.sleep(1)\n",
    "\n",
    "    "
   ]
  },
  {
   "cell_type": "code",
   "execution_count": 76,
   "id": "2b8cb289",
   "metadata": {},
   "outputs": [
    {
     "name": "stdout",
     "output_type": "stream",
     "text": [
      "El numero de intento es 1\n",
      "El numero de intento es 2\n",
      "El numero de intento es 3\n",
      "El numero de intento es 4\n",
      "El numero de intento es 5\n"
     ]
    }
   ],
   "source": [
    "# Trabajando while loops\n",
    "max_intentos = 5\n",
    "intento = 1\n",
    "while intento <= max_intentos:\n",
    "    print(f'El numero de intento es {intento}')\n",
    "    intento += 1"
   ]
  },
  {
   "cell_type": "markdown",
   "id": "8e667f56",
   "metadata": {},
   "source": [
    "# Funciones"
   ]
  },
  {
   "cell_type": "code",
   "execution_count": 77,
   "id": "3bb53224",
   "metadata": {},
   "outputs": [
    {
     "name": "stdout",
     "output_type": "stream",
     "text": [
      "Saquenme de la UNC\n"
     ]
    }
   ],
   "source": [
    "# Print\n",
    "print(\"Saquenme de la UNC\")"
   ]
  },
  {
   "cell_type": "code",
   "execution_count": 78,
   "id": "c89112e1",
   "metadata": {},
   "outputs": [
    {
     "data": {
      "text/plain": [
       "18"
      ]
     },
     "execution_count": 78,
     "metadata": {},
     "output_type": "execute_result"
    }
   ],
   "source": [
    "len(\"Aprobaré el curso?\")"
   ]
  },
  {
   "cell_type": "code",
   "execution_count": 81,
   "id": "208d255d",
   "metadata": {},
   "outputs": [],
   "source": [
    "# Creando funciones\n",
    "\n",
    "def saluda():\n",
    "    print(\"Hola\")"
   ]
  },
  {
   "cell_type": "code",
   "execution_count": 82,
   "id": "a8df2ff5",
   "metadata": {},
   "outputs": [
    {
     "name": "stdout",
     "output_type": "stream",
     "text": [
      "Hola\n"
     ]
    }
   ],
   "source": [
    "saluda()"
   ]
  },
  {
   "cell_type": "code",
   "execution_count": 84,
   "id": "55d779bb",
   "metadata": {},
   "outputs": [
    {
     "name": "stdout",
     "output_type": "stream",
     "text": [
      "Hola Paula\n"
     ]
    }
   ],
   "source": [
    "def saluda(nombre):\n",
    "    print(f\"Hola {nombre}\")\n",
    "\n",
    "saluda(\"Paula\")"
   ]
  },
  {
   "cell_type": "code",
   "execution_count": 85,
   "id": "2c0fd2ce",
   "metadata": {},
   "outputs": [
    {
     "name": "stdout",
     "output_type": "stream",
     "text": [
      "Bienvenido Ana, llegaste a Cajamarca\n"
     ]
    }
   ],
   "source": [
    "def bienvenido(nombre, lugar):\n",
    "    print(f'Bienvenido {nombre}, llegaste a {lugar}')\n",
    "bienvenido(\"Ana\", \"Cajamarca\")\n"
   ]
  },
  {
   "cell_type": "code",
   "execution_count": 89,
   "id": "1230b2c8",
   "metadata": {},
   "outputs": [
    {
     "name": "stdout",
     "output_type": "stream",
     "text": [
      "8\n",
      "-------------\n"
     ]
    },
    {
     "data": {
      "text/plain": [
       "14"
      ]
     },
     "execution_count": 89,
     "metadata": {},
     "output_type": "execute_result"
    }
   ],
   "source": [
    "# Función que retorna un valor\n",
    "def sumar(a,b):\n",
    "    return a+b\n",
    "\n",
    "resultado = sumar(5,3)\n",
    "print(resultado)\n",
    "print(\"-------------\")\n",
    "sumar(10,4)"
   ]
  },
  {
   "cell_type": "code",
   "execution_count": 91,
   "id": "11d91c54",
   "metadata": {},
   "outputs": [
    {
     "name": "stdout",
     "output_type": "stream",
     "text": [
      "La suma es un numero par\n"
     ]
    }
   ],
   "source": [
    "if sumar(9,7)%2 == 0:\n",
    "    print('La suma es un numero par')\n",
    "else:\n",
    "    print('La suma es un numero impar')\n",
    "\n",
    "#reutilizando funciones"
   ]
  },
  {
   "cell_type": "markdown",
   "id": "0651590d",
   "metadata": {},
   "source": [
    "# 7. Otros\n",
    "- Manejo de Excepciones\n",
    "- Instrucciones: pass, Continue, Break"
   ]
  },
  {
   "cell_type": "code",
   "execution_count": 92,
   "id": "1d73bf44",
   "metadata": {},
   "outputs": [
    {
     "name": "stdout",
     "output_type": "stream",
     "text": [
      "Ocurrión un error de nomnbre\n"
     ]
    }
   ],
   "source": [
    "# NameError\n",
    "try:\n",
    "    pritn('Testeanding')\n",
    "except NameError as e:\n",
    "    print(\"Ocurrión un error de nomnbre\")"
   ]
  },
  {
   "cell_type": "code",
   "execution_count": 93,
   "id": "9f179637",
   "metadata": {},
   "outputs": [
    {
     "name": "stdout",
     "output_type": "stream",
     "text": [
      "Ocurrió un error de llave\n"
     ]
    }
   ],
   "source": [
    "# Errores comunes: KeyError\n",
    "dict_alumno = {'nombre': 'Georgina'}\n",
    "\n",
    "try:\n",
    "    dict_alumno['apellido']\n",
    "except KeyError as e:\n",
    "    print(\"Ocurrió un error de llave\")"
   ]
  },
  {
   "cell_type": "code",
   "execution_count": 95,
   "id": "864a0722",
   "metadata": {},
   "outputs": [
    {
     "name": "stdout",
     "output_type": "stream",
     "text": [
      "Ocurrió un error de indice list index out of range\n"
     ]
    }
   ],
   "source": [
    "# Errores al indexar: indexError\n",
    "listas = [1,2,3,4]\n",
    "\n",
    "try:\n",
    "    print(listas[6])\n",
    "except IndexError as e:\n",
    "    print(\"Ocurrió un error de indice\", e)"
   ]
  },
  {
   "cell_type": "code",
   "execution_count": 101,
   "id": "39f723bc",
   "metadata": {},
   "outputs": [
    {
     "name": "stdout",
     "output_type": "stream",
     "text": [
      "-----\n",
      "5\n",
      "-----\n",
      "No se puede dividir por cero\n",
      "-----\n",
      "Los valores deben ser numericos\n"
     ]
    }
   ],
   "source": [
    "# Función para detectar errores\n",
    "def get_cociente(x,y):\n",
    "    try:\n",
    "        resultado = x//y\n",
    "        return resultado\n",
    "    except ZeroDivisionError as e:\n",
    "        return \"No se puede dividir por cero\"\n",
    "    except TypeError as e:\n",
    "        return \"Los valores deben ser numericos\"\n",
    "    finally:\n",
    "        print(\"-----\")\n",
    "\n",
    "print(get_cociente(10,2))\n",
    "print(get_cociente(10,0))\n",
    "print(get_cociente(10,'a'))"
   ]
  }
 ],
 "metadata": {
  "kernelspec": {
   "display_name": "myEnv",
   "language": "python",
   "name": "python3"
  },
  "language_info": {
   "codemirror_mode": {
    "name": "ipython",
    "version": 3
   },
   "file_extension": ".py",
   "mimetype": "text/x-python",
   "name": "python",
   "nbconvert_exporter": "python",
   "pygments_lexer": "ipython3",
   "version": "3.13.5"
  }
 },
 "nbformat": 4,
 "nbformat_minor": 5
}
