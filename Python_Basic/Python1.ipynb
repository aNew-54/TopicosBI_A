{
 "cells": [
  {
   "cell_type": "markdown",
   "id": "ac31382c",
   "metadata": {},
   "source": [
    "# Phyton for Big Data\n",
    "\n",
    "1. Variables\n",
    "2. String\n",
    "3. Function print\n",
    "4. Booleanos y condicionales\n",
    "5. Loops\n",
    "6. Functions\n",
    "7. Manejo de Excepciones"
   ]
  },
  {
   "cell_type": "markdown",
   "id": "7e923674d942ff03",
   "metadata": {},
   "source": [
    "## Variables\n"
   ]
  },
  {
   "cell_type": "code",
   "execution_count": 1,
   "id": "7e72c9f494ad9d2a",
   "metadata": {
    "ExecuteTime": {
     "end_time": "2025-09-26T16:41:11.766523Z",
     "start_time": "2025-09-26T16:41:11.763434Z"
    }
   },
   "outputs": [],
   "source": [
    "# Declaración de variables\n",
    "monto_deuda = 100\n",
    "moneda = \"soles\""
   ]
  },
  {
   "cell_type": "code",
   "execution_count": 2,
   "id": "b17363f5e4ffb669",
   "metadata": {
    "ExecuteTime": {
     "end_time": "2025-09-26T16:41:15.778195Z",
     "start_time": "2025-09-26T16:41:15.771477Z"
    }
   },
   "outputs": [
    {
     "data": {
      "text/plain": [
       "'soles'"
      ]
     },
     "execution_count": 2,
     "metadata": {},
     "output_type": "execute_result"
    }
   ],
   "source": [
    "moneda"
   ]
  },
  {
   "cell_type": "code",
   "execution_count": 2,
   "id": "41182e8cd8e0b297",
   "metadata": {
    "ExecuteTime": {
     "end_time": "2025-09-26T16:41:54.263070Z",
     "start_time": "2025-09-26T16:41:49.288728Z"
    }
   },
   "outputs": [],
   "source": [
    "# Interactuando con el usuario\n",
    "monto_interes = int(input(\"Ingresa un interes\"))"
   ]
  },
  {
   "metadata": {
    "ExecuteTime": {
     "end_time": "2025-09-26T16:43:07.483449Z",
     "start_time": "2025-09-26T16:43:07.480219Z"
    }
   },
   "cell_type": "code",
   "source": [
    "# Operando con variables\n",
    "resultado = monto_deuda * 4\n",
    "resultado"
   ],
   "id": "15b08a0af7b32dbd",
   "outputs": [
    {
     "data": {
      "text/plain": [
       "400"
      ]
     },
     "execution_count": 4,
     "metadata": {},
     "output_type": "execute_result"
    }
   ],
   "execution_count": 4
  },
  {
   "metadata": {
    "ExecuteTime": {
     "end_time": "2025-09-26T16:44:26.473843Z",
     "start_time": "2025-09-26T16:44:26.470951Z"
    }
   },
   "cell_type": "code",
   "source": [
    "#Tipo de variable\n",
    "type(monto_deuda)"
   ],
   "id": "2dec7e7eb6d441c",
   "outputs": [
    {
     "data": {
      "text/plain": [
       "int"
      ]
     },
     "execution_count": 6,
     "metadata": {},
     "output_type": "execute_result"
    }
   ],
   "execution_count": 6
  },
  {
   "metadata": {
    "ExecuteTime": {
     "end_time": "2025-09-26T16:44:50.008103Z",
     "start_time": "2025-09-26T16:44:50.004309Z"
    }
   },
   "cell_type": "code",
   "source": "type(moneda)\n",
   "id": "e8abb0f3b2f2af75",
   "outputs": [
    {
     "data": {
      "text/plain": [
       "str"
      ]
     },
     "execution_count": 7,
     "metadata": {},
     "output_type": "execute_result"
    }
   ],
   "execution_count": 7
  },
  {
   "metadata": {
    "ExecuteTime": {
     "end_time": "2025-09-26T16:45:38.882082Z",
     "start_time": "2025-09-26T16:45:38.817235Z"
    }
   },
   "cell_type": "code",
   "source": [
    "# Cambiando el tipo de variable\n",
    "str_monto_deuda = str(monto_deuda)\n",
    "str_monto_deuda"
   ],
   "id": "519dd0198a425587",
   "outputs": [
    {
     "data": {
      "text/plain": [
       "'100'"
      ]
     },
     "execution_count": 10,
     "metadata": {},
     "output_type": "execute_result"
    }
   ],
   "execution_count": 10
  },
  {
   "metadata": {
    "ExecuteTime": {
     "end_time": "2025-09-26T16:46:06.907437Z",
     "start_time": "2025-09-26T16:46:06.903385Z"
    }
   },
   "cell_type": "code",
   "source": [
    "int_monto_deuda = int(str_monto_deuda)\n",
    "int_monto_deuda"
   ],
   "id": "70a35343f000ebe9",
   "outputs": [
    {
     "data": {
      "text/plain": [
       "100"
      ]
     },
     "execution_count": 12,
     "metadata": {},
     "output_type": "execute_result"
    }
   ],
   "execution_count": 12
  }
 ],
 "metadata": {
  "kernelspec": {
   "display_name": "myEnv",
   "language": "python",
   "name": "python3"
  },
  "language_info": {
   "codemirror_mode": {
    "name": "ipython",
    "version": 3
   },
   "file_extension": ".py",
   "mimetype": "text/x-python",
   "name": "python",
   "nbconvert_exporter": "python",
   "pygments_lexer": "ipython3",
   "version": "3.13.5"
  }
 },
 "nbformat": 4,
 "nbformat_minor": 5
}
